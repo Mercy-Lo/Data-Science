{
 "cells": [
  {
   "cell_type": "markdown",
   "id": "a52546f0",
   "metadata": {},
   "source": [
    "# Chapter1 本書的概要與Python的基礎"
   ]
  },
  {
   "cell_type": "markdown",
   "id": "0c12dc69",
   "metadata": {},
   "source": [
    "## Python Foundation"
   ]
  },
  {
   "cell_type": "code",
   "execution_count": 1,
   "id": "61b9c754",
   "metadata": {},
   "outputs": [],
   "source": [
    "import numpy as np"
   ]
  },
  {
   "cell_type": "code",
   "execution_count": 2,
   "id": "c889efa1",
   "metadata": {},
   "outputs": [],
   "source": [
    "import pandas as pd"
   ]
  },
  {
   "cell_type": "markdown",
   "id": "8546bfa6",
   "metadata": {},
   "source": [
    "### print(): 顯示內容。"
   ]
  },
  {
   "cell_type": "code",
   "execution_count": 3,
   "id": "b1de863f",
   "metadata": {
    "scrolled": true
   },
   "outputs": [
    {
     "name": "stdout",
     "output_type": "stream",
     "text": [
      "Hello World!\n"
     ]
    }
   ],
   "source": [
    "print('Hello World!')"
   ]
  },
  {
   "cell_type": "markdown",
   "id": "2f06ca1a",
   "metadata": {},
   "source": [
    "### Python四則運算"
   ]
  },
  {
   "cell_type": "code",
   "execution_count": 4,
   "id": "27c71248",
   "metadata": {},
   "outputs": [
    {
     "name": "stdout",
     "output_type": "stream",
     "text": [
      "2\n"
     ]
    }
   ],
   "source": [
    "print(1+1)"
   ]
  },
  {
   "cell_type": "code",
   "execution_count": 5,
   "id": "e60dcd5f",
   "metadata": {},
   "outputs": [
    {
     "name": "stdout",
     "output_type": "stream",
     "text": [
      "20000\n"
     ]
    }
   ],
   "source": [
    "print(100*200)"
   ]
  },
  {
   "cell_type": "markdown",
   "id": "2f8d2df2",
   "metadata": {},
   "source": [
    "### 變數"
   ]
  },
  {
   "cell_type": "code",
   "execution_count": 6,
   "id": "2d71bded",
   "metadata": {},
   "outputs": [
    {
     "name": "stdout",
     "output_type": "stream",
     "text": [
      "test\n"
     ]
    }
   ],
   "source": [
    "msg='test'\n",
    "print(msg)"
   ]
  },
  {
   "cell_type": "markdown",
   "id": "746e5b99",
   "metadata": {},
   "source": [
    "### [0]: 索引從0開始，找出位於0的字母。"
   ]
  },
  {
   "cell_type": "code",
   "execution_count": 7,
   "id": "ee37d662",
   "metadata": {},
   "outputs": [
    {
     "data": {
      "text/plain": [
       "'t'"
      ]
     },
     "execution_count": 7,
     "metadata": {},
     "output_type": "execute_result"
    }
   ],
   "source": [
    "msg[0]"
   ]
  },
  {
   "cell_type": "code",
   "execution_count": 8,
   "id": "ac7ab301",
   "metadata": {},
   "outputs": [
    {
     "data": {
      "text/plain": [
       "'e'"
      ]
     },
     "execution_count": 8,
     "metadata": {},
     "output_type": "execute_result"
    }
   ],
   "source": [
    "msg[1]"
   ]
  },
  {
   "cell_type": "markdown",
   "id": "0a499df8",
   "metadata": {},
   "source": [
    "### 運算"
   ]
  },
  {
   "cell_type": "code",
   "execution_count": 9,
   "id": "72023fdb",
   "metadata": {},
   "outputs": [
    {
     "name": "stdout",
     "output_type": "stream",
     "text": [
      "1\n"
     ]
    }
   ],
   "source": [
    "data=1\n",
    "print(data)"
   ]
  },
  {
   "cell_type": "code",
   "execution_count": 10,
   "id": "13066436",
   "metadata": {},
   "outputs": [
    {
     "name": "stdout",
     "output_type": "stream",
     "text": [
      "11\n"
     ]
    }
   ],
   "source": [
    "data=data+10\n",
    "print(data)"
   ]
  },
  {
   "cell_type": "code",
   "execution_count": 11,
   "id": "e47ee106",
   "metadata": {},
   "outputs": [],
   "source": [
    "### 保留字"
   ]
  },
  {
   "cell_type": "code",
   "execution_count": 12,
   "id": "50797c34",
   "metadata": {},
   "outputs": [
    {
     "data": {
      "text/plain": [
       "['False',\n",
       " 'None',\n",
       " 'True',\n",
       " '__peg_parser__',\n",
       " 'and',\n",
       " 'as',\n",
       " 'assert',\n",
       " 'async',\n",
       " 'await',\n",
       " 'break',\n",
       " 'class',\n",
       " 'continue',\n",
       " 'def',\n",
       " 'del',\n",
       " 'elif',\n",
       " 'else',\n",
       " 'except',\n",
       " 'finally',\n",
       " 'for',\n",
       " 'from',\n",
       " 'global',\n",
       " 'if',\n",
       " 'import',\n",
       " 'in',\n",
       " 'is',\n",
       " 'lambda',\n",
       " 'nonlocal',\n",
       " 'not',\n",
       " 'or',\n",
       " 'pass',\n",
       " 'raise',\n",
       " 'return',\n",
       " 'try',\n",
       " 'while',\n",
       " 'with',\n",
       " 'yield']"
      ]
     },
     "execution_count": 12,
     "metadata": {},
     "output_type": "execute_result"
    }
   ],
   "source": [
    "__import__('keyword').kwlist"
   ]
  },
  {
   "cell_type": "markdown",
   "id": "27df5860",
   "metadata": {},
   "source": [
    "### 串列型別與字典型別"
   ]
  },
  {
   "cell_type": "markdown",
   "id": "9d7639ee",
   "metadata": {},
   "source": [
    "### list[a,b,c] "
   ]
  },
  {
   "cell_type": "markdown",
   "id": "64120189",
   "metadata": {},
   "source": [
    "### len(data_list): 可以計算出元素的數量。"
   ]
  },
  {
   "cell_type": "code",
   "execution_count": 13,
   "id": "636daad9",
   "metadata": {},
   "outputs": [
    {
     "name": "stdout",
     "output_type": "stream",
     "text": [
      "[1, 2, 3, 4, 5, 6, 7, 8, 9, 10, 11]\n"
     ]
    }
   ],
   "source": [
    "data_list=[1,2,3,4,5,6,7,8,9,10,11]\n",
    "print(data_list)"
   ]
  },
  {
   "cell_type": "code",
   "execution_count": 14,
   "id": "4dad3ecc",
   "metadata": {},
   "outputs": [
    {
     "name": "stdout",
     "output_type": "stream",
     "text": [
      "變數的類型： <class 'list'>\n"
     ]
    }
   ],
   "source": [
    "print('變數的類型：',type(data_list))"
   ]
  },
  {
   "cell_type": "code",
   "execution_count": 15,
   "id": "9f4bfad5",
   "metadata": {},
   "outputs": [
    {
     "name": "stdout",
     "output_type": "stream",
     "text": [
      "第二個數字: 2\n"
     ]
    }
   ],
   "source": [
    "print('第二個數字:',data_list[1])"
   ]
  },
  {
   "cell_type": "code",
   "execution_count": 16,
   "id": "af7b83b1",
   "metadata": {},
   "outputs": [
    {
     "name": "stdout",
     "output_type": "stream",
     "text": [
      "元素數量： 11\n"
     ]
    }
   ],
   "source": [
    "print('元素數量：',len(data_list))"
   ]
  },
  {
   "cell_type": "markdown",
   "id": "49003871",
   "metadata": {},
   "source": [
    "### list乘上數字，會重複串列的值。"
   ]
  },
  {
   "cell_type": "code",
   "execution_count": 17,
   "id": "b39ae6ca",
   "metadata": {},
   "outputs": [
    {
     "data": {
      "text/plain": [
       "[1, 2, 3, 4, 5, 6, 7, 8, 9, 10, 11, 1, 2, 3, 4, 5, 6, 7, 8, 9, 10, 11]"
      ]
     },
     "execution_count": 17,
     "metadata": {},
     "output_type": "execute_result"
    }
   ],
   "source": [
    "data_list*2"
   ]
  },
  {
   "cell_type": "markdown",
   "id": "9c90f203",
   "metadata": {},
   "source": [
    "### append(): 增加串列的值。"
   ]
  },
  {
   "cell_type": "code",
   "execution_count": 18,
   "id": "fa2aad85",
   "metadata": {},
   "outputs": [
    {
     "name": "stdout",
     "output_type": "stream",
     "text": [
      "[1, 2, 3, 4, 5, 6, 7, 8, 9, 10, 11, 12]\n"
     ]
    }
   ],
   "source": [
    "data_list.append(12)\n",
    "print(data_list)"
   ]
  },
  {
   "cell_type": "markdown",
   "id": "44792e7a",
   "metadata": {},
   "source": [
    "### extend():可以增加多個值。"
   ]
  },
  {
   "cell_type": "code",
   "execution_count": 19,
   "id": "6d5bc788",
   "metadata": {},
   "outputs": [
    {
     "name": "stdout",
     "output_type": "stream",
     "text": [
      "[1, 2, 3, 4, 5, 6, 7, 8, 9, 10, 11, 12, 13, 14, 15, 16, 17]\n"
     ]
    }
   ],
   "source": [
    "data_list.extend([13,14,15,16,17])\n",
    "print(data_list)"
   ]
  },
  {
   "cell_type": "markdown",
   "id": "93f0b1f1",
   "metadata": {},
   "source": [
    "### pop(index): 移除值。"
   ]
  },
  {
   "cell_type": "code",
   "execution_count": 20,
   "id": "b671a84c",
   "metadata": {},
   "outputs": [
    {
     "name": "stdout",
     "output_type": "stream",
     "text": [
      "[1, 2, 3, 4, 5, 6, 7, 8, 9, 10, 11, 12, 13, 14, 15, 16]\n"
     ]
    }
   ],
   "source": [
    "data_list.pop(16)\n",
    "print(data_list)"
   ]
  },
  {
   "cell_type": "markdown",
   "id": "4ce2d9f2",
   "metadata": {},
   "source": [
    "### remove(value): 移除值。"
   ]
  },
  {
   "cell_type": "code",
   "execution_count": 21,
   "id": "bba1419b",
   "metadata": {},
   "outputs": [
    {
     "name": "stdout",
     "output_type": "stream",
     "text": [
      "[1, 2, 3, 4, 5, 6, 7, 8, 9, 10, 11, 12, 13, 14, 15]\n"
     ]
    }
   ],
   "source": [
    "data_list.remove(16)\n",
    "print(data_list)"
   ]
  },
  {
   "cell_type": "markdown",
   "id": "09be0aa9",
   "metadata": {},
   "source": [
    "### del list[index]:移除值。"
   ]
  },
  {
   "cell_type": "code",
   "execution_count": 22,
   "id": "53bd6d3b",
   "metadata": {},
   "outputs": [
    {
     "name": "stdout",
     "output_type": "stream",
     "text": [
      "[1, 2, 3, 4, 5, 6, 7, 8, 9, 10]\n"
     ]
    }
   ],
   "source": [
    "del data_list[10:]\n",
    "print(data_list)"
   ]
  },
  {
   "cell_type": "markdown",
   "id": "466fe96a",
   "metadata": {},
   "source": [
    "### dict 字典類型"
   ]
  },
  {
   "cell_type": "code",
   "execution_count": 23,
   "id": "97687c03",
   "metadata": {},
   "outputs": [
    {
     "name": "stdout",
     "output_type": "stream",
     "text": [
      "500\n"
     ]
    }
   ],
   "source": [
    "dic_data={'apple':100,'banana':200,'orange':300,'mango':400,'melon':500}\n",
    "print(dic_data['melon'])"
   ]
  },
  {
   "cell_type": "code",
   "execution_count": 24,
   "id": "95a66af3",
   "metadata": {},
   "outputs": [
    {
     "name": "stdout",
     "output_type": "stream",
     "text": [
      "300\n"
     ]
    }
   ],
   "source": [
    "print(dic_data['orange'])"
   ]
  },
  {
   "cell_type": "markdown",
   "id": "6163e800",
   "metadata": {},
   "source": [
    "### update(): 可以將dict, dict合併。"
   ]
  },
  {
   "cell_type": "code",
   "execution_count": 25,
   "id": "dcc1b36a",
   "metadata": {
    "scrolled": true
   },
   "outputs": [
    {
     "name": "stdout",
     "output_type": "stream",
     "text": [
      "{'apple': 100, 'banana': 200, 'orange': 300, 'mango': 400, 'melon': 500, 'grape': 600, 'strawberry': 700}\n"
     ]
    }
   ],
   "source": [
    "dic_data.update({'grape':600,'strawberry':700})\n",
    "print(dic_data)"
   ]
  },
  {
   "cell_type": "markdown",
   "id": "ee4fe95b",
   "metadata": {},
   "source": [
    "### del: 移除值。"
   ]
  },
  {
   "cell_type": "code",
   "execution_count": 26,
   "id": "27036625",
   "metadata": {},
   "outputs": [
    {
     "name": "stdout",
     "output_type": "stream",
     "text": [
      "{'apple': 100, 'banana': 200, 'orange': 300, 'melon': 500, 'grape': 600, 'strawberry': 700}\n"
     ]
    }
   ],
   "source": [
    "del dic_data['mango']\n",
    "print(dic_data)"
   ]
  },
  {
   "cell_type": "markdown",
   "id": "b1edc2f3",
   "metadata": {},
   "source": [
    "### pop: 移除值。"
   ]
  },
  {
   "cell_type": "code",
   "execution_count": 27,
   "id": "ca256951",
   "metadata": {},
   "outputs": [
    {
     "name": "stdout",
     "output_type": "stream",
     "text": [
      "{'apple': 100, 'banana': 200, 'orange': 300, 'grape': 600, 'strawberry': 700}\n"
     ]
    }
   ],
   "source": [
    "dic_data.pop('melon')\n",
    "print(dic_data)"
   ]
  },
  {
   "cell_type": "markdown",
   "id": "2b503d6d",
   "metadata": {},
   "source": [
    "### tuple() "
   ]
  },
  {
   "cell_type": "code",
   "execution_count": 32,
   "id": "806d4f95",
   "metadata": {},
   "outputs": [
    {
     "name": "stdout",
     "output_type": "stream",
     "text": [
      "(6, 7, 8, 9, 10)\n"
     ]
    }
   ],
   "source": [
    "a_tuple=6,7,8,9,10\n",
    "print(a_tuple)"
   ]
  },
  {
   "cell_type": "markdown",
   "id": "d41a205c",
   "metadata": {},
   "source": [
    "### set()"
   ]
  },
  {
   "cell_type": "code",
   "execution_count": 34,
   "id": "caa2afb7",
   "metadata": {},
   "outputs": [
    {
     "data": {
      "text/plain": [
       "{2, 6, 7, 8, 9, 10}"
      ]
     },
     "execution_count": 34,
     "metadata": {},
     "output_type": "execute_result"
    }
   ],
   "source": [
    "a_set=set([2,2,2,6,6,7,8,9,9,10,10])\n",
    "a_set"
   ]
  },
  {
   "cell_type": "markdown",
   "id": "7036edfa",
   "metadata": {},
   "source": [
    "### 條件分歧與回圈"
   ]
  },
  {
   "cell_type": "code",
   "execution_count": null,
   "id": "1578402e",
   "metadata": {},
   "outputs": [],
   "source": []
  },
  {
   "cell_type": "code",
   "execution_count": null,
   "id": "d7b10114",
   "metadata": {},
   "outputs": [],
   "source": []
  },
  {
   "cell_type": "code",
   "execution_count": null,
   "id": "a204919d",
   "metadata": {},
   "outputs": [],
   "source": []
  },
  {
   "cell_type": "code",
   "execution_count": null,
   "id": "0319c1ef",
   "metadata": {},
   "outputs": [],
   "source": []
  },
  {
   "cell_type": "code",
   "execution_count": null,
   "id": "b4419333",
   "metadata": {},
   "outputs": [],
   "source": []
  },
  {
   "cell_type": "code",
   "execution_count": null,
   "id": "3e2e987f",
   "metadata": {},
   "outputs": [],
   "source": []
  },
  {
   "cell_type": "code",
   "execution_count": null,
   "id": "1b9ae614",
   "metadata": {},
   "outputs": [],
   "source": []
  },
  {
   "cell_type": "code",
   "execution_count": null,
   "id": "b0ff2b31",
   "metadata": {},
   "outputs": [],
   "source": []
  },
  {
   "cell_type": "code",
   "execution_count": null,
   "id": "2bc57886",
   "metadata": {},
   "outputs": [],
   "source": []
  },
  {
   "cell_type": "code",
   "execution_count": null,
   "id": "b9801608",
   "metadata": {},
   "outputs": [],
   "source": []
  },
  {
   "cell_type": "code",
   "execution_count": null,
   "id": "e3ebbd3b",
   "metadata": {},
   "outputs": [],
   "source": []
  },
  {
   "cell_type": "code",
   "execution_count": null,
   "id": "91aac825",
   "metadata": {},
   "outputs": [],
   "source": []
  },
  {
   "cell_type": "code",
   "execution_count": null,
   "id": "59d2bba1",
   "metadata": {},
   "outputs": [],
   "source": []
  },
  {
   "cell_type": "code",
   "execution_count": null,
   "id": "a8675dd1",
   "metadata": {},
   "outputs": [],
   "source": []
  }
 ],
 "metadata": {
  "kernelspec": {
   "display_name": "Python 3 (ipykernel)",
   "language": "python",
   "name": "python3"
  },
  "language_info": {
   "codemirror_mode": {
    "name": "ipython",
    "version": 3
   },
   "file_extension": ".py",
   "mimetype": "text/x-python",
   "name": "python",
   "nbconvert_exporter": "python",
   "pygments_lexer": "ipython3",
   "version": "3.9.12"
  }
 },
 "nbformat": 4,
 "nbformat_minor": 5
}
